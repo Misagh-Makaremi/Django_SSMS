{
 "cells": [
  {
   "cell_type": "markdown",
   "metadata": {},
   "source": [
    "**_*Note:_** **_Always use venv or Anaconda Navigator to avoid packages conflict._**"
   ]
  },
  {
   "cell_type": "markdown",
   "metadata": {},
   "source": [
    "# Step 1: Installing required packages/softwares"
   ]
  },
  {
   "cell_type": "code",
   "execution_count": 2,
   "metadata": {},
   "outputs": [],
   "source": [
    "#pip install django\n",
    "#pip install mssql-django\n",
    "\n",
    "#Uncomment if needed"
   ]
  },
  {
   "cell_type": "markdown",
   "metadata": {},
   "source": [
    "**Also install:**\n",
    "- _SQL Server Express_\n",
    "- _SQL Server Management Studio_\n",
    "- _ODBC Driver 17 for SQL Server_"
   ]
  },
  {
   "cell_type": "markdown",
   "metadata": {},
   "source": [
    "# Step 2: Creating a Django Project"
   ]
  },
  {
   "cell_type": "code",
   "execution_count": null,
   "metadata": {},
   "outputs": [],
   "source": [
    "django-admin startproject myproject\n",
    "#This will create a project folder named \"myproject\". You can change the name accordingly.\n",
    "\n",
    "cd myproject\n",
    "#Navigate into the project folder"
   ]
  },
  {
   "cell_type": "markdown",
   "metadata": {},
   "source": [
    "# Step 3: Understand Project Structure\n",
    "#### In directory, you’ll see the following files and folders:\n",
    "```\n",
    "myproject/\n",
    "    manage.py\n",
    "    myproject/\n",
    "        __init__.py\n",
    "        settings.py\n",
    "        urls.py\n",
    "        asgi.py\n",
    "        wsgi.py\n",
    "```\n",
    "\n",
    "- _**manage.py:** A command-line utility for interacting with the project._\n",
    "\n",
    "- _**myproject/settings.py:** Configuration settings for the project (e.g., database, installed apps, etc.)._\n",
    "\n",
    "- _**myproject/urls.py:** URL routing for the project._\n"
   ]
  },
  {
   "cell_type": "markdown",
   "metadata": {},
   "source": [
    "# Step 4: Configure the Database\n",
    "_*Note: Make sure you have created the server using SSMS._\n",
    "1. Open myproject/settings.py\n",
    "2. Find the DATABASES section and update it to use mssql-django with your server configuration:\n",
    "```\n",
    "DATABASES = {\n",
    "    'default': {\n",
    "        'ENGINE': 'mssql',\n",
    "        'NAME': 'your_database_name',  # Replace with your database name\n",
    "        'USER': 'your_username',       # Replace with your SQL Server username\n",
    "        'PASSWORD': 'your_password',   # Replace with your SQL Server password\n",
    "        'HOST': 'your_server_address', # Replace with your SQL Server host (e.g., 'localhost' or an IP address)\n",
    "        'PORT': '',                    # Leave empty for default port\n",
    "        'OPTIONS': {\n",
    "            'driver': 'ODBC Driver 17 for SQL Server',  # Ensure this driver is installed\n",
    "            'Trusted_Connection':'yes', # Add this when using local server\n",
    "        },\n",
    "    }\n",
    "}\n",
    "```\n",
    "3. Save the file.\n"
   ]
  },
  {
   "cell_type": "markdown",
   "metadata": {},
   "source": [
    "# Step 5: Creating a Django App"
   ]
  },
  {
   "cell_type": "code",
   "execution_count": null,
   "metadata": {},
   "outputs": [],
   "source": [
    "python manage.py startapp products\n",
    "#You can change the name accordingly."
   ]
  },
  {
   "cell_type": "markdown",
   "metadata": {},
   "source": [
    "#### This will create a folder named \"products\" with the following structure:\n",
    "```\n",
    "products/\n",
    "    migrations/\n",
    "    __init__.py\n",
    "    admin.py\n",
    "    apps.py\n",
    "    models.py\n",
    "    tests.py\n",
    "    views.py\n",
    "```"
   ]
  },
  {
   "cell_type": "markdown",
   "metadata": {},
   "source": [
    "### Registering the defined app:"
   ]
  },
  {
   "cell_type": "code",
   "execution_count": null,
   "metadata": {},
   "outputs": [],
   "source": [
    "#Open myproject/settings.py and add 'products'app to the INSTALLED_APPS list:\n",
    "\n",
    "INSTALLED_APPS = [\n",
    "    ...\n",
    "    \"products.apps.ProductsConfig\",  #Add this at the end of the list. Change name accordingly.\n",
    "]"
   ]
  },
  {
   "cell_type": "markdown",
   "metadata": {},
   "source": [
    "# Step 6: Defining Models\n",
    "\n",
    "Models define the structure of database tables. Here we make two tables for \"Product\" and \"Category\".\n",
    "\n",
    "_*Note: Here, the Product model will have a foreign key relationship to the Category model._"
   ]
  },
  {
   "cell_type": "code",
   "execution_count": null,
   "metadata": {},
   "outputs": [],
   "source": [
    "#Open products/models.py and define the models as follows: (Define according to your project)\n",
    "\n",
    "class Category(models.Model):\n",
    "    Id = models.AutoField(primary_key=True)\n",
    "    Name = models.CharField(max_length=100)\n",
    "    Description = models.TextField()\n",
    "    Deleted = models.BooleanField(default=False)  # Soft delete flag\n",
    "\n",
    "    def __str__(self):\n",
    "        return self.Name\n",
    "\n",
    "class Product(models.Model):\n",
    "    Id = models.AutoField(primary_key=True)\n",
    "    Name = models.CharField(max_length=100)\n",
    "    ProductImage = models.TextField()\n",
    "    Description = models.TextField()\n",
    "    Price = models.DecimalField(max_digits=10, decimal_places=2)\n",
    "    Stock = models.IntegerField()\n",
    "    CreatedAt = models.DateTimeField(auto_now_add=True)\n",
    "    Deleted = models.BooleanField(default=False)  # Soft delete flag\n",
    "    CategoryID = models.ForeignKey(Category, on_delete=models.CASCADE)\n",
    "\n",
    "    def __str__(self):\n",
    "        return self.Name"
   ]
  },
  {
   "cell_type": "markdown",
   "metadata": {},
   "source": [
    "#### Here we have:\n",
    "\n",
    "**Category Model:**\n",
    "\n",
    "- _Name: Name of the category._\n",
    "\n",
    "- _Description: Description of the category._\n",
    "\n",
    "- _Deleted: A flag to indicate if the category is soft-deleted (default is False)._\n",
    "\n",
    "**Product Model:**\n",
    "\n",
    "- _Name: Name of the product._\n",
    "\n",
    "- _Price: Price of the product._\n",
    "\n",
    "- _Stock: Quantity of the product in stock._\n",
    "\n",
    "- _Created at: Timestamp when the product was created._\n",
    "\n",
    "- _Deleted: A flag to indicate if the product is soft-deleted (default is False)._\n",
    "\n",
    "- _Category: Foreign key to the Category model, establishing a relationship between products and categories._"
   ]
  },
  {
   "cell_type": "markdown",
   "metadata": {},
   "source": [
    "# Step 7: Create and Apply Migrations\n",
    " This is to create the corresponding tables in SQL Server database."
   ]
  },
  {
   "cell_type": "code",
   "execution_count": null,
   "metadata": {},
   "outputs": [],
   "source": [
    "#In project directory run:\n",
    "python manage.py makemigrations\n",
    "\n",
    "#This generates migration files in the products/migrations/ folder."
   ]
  },
  {
   "cell_type": "code",
   "execution_count": null,
   "metadata": {},
   "outputs": [],
   "source": [
    "#In directory run:\n",
    "python manage.py migrate\n",
    "\n",
    "#This creates the tables (Category and Product) in your SQL Server database."
   ]
  },
  {
   "cell_type": "markdown",
   "metadata": {},
   "source": [
    "### Verify the Tables:\n",
    "1. Open your SQL Server Management Studio (SSMS) or any SQL Server client.\n",
    "2. Check your database. You should see two new tables:\n",
    "    - products_category\n",
    "    - products_product\n",
    "\n",
    "_* You can see the tables by right-clicking on Database Diagrams>selecting New Database Diagram>selecting the two table>Add_"
   ]
  },
  {
   "cell_type": "markdown",
   "metadata": {},
   "source": [
    "![alt text](<Screenshot 2025-01-16 200055-1.png>)"
   ]
  },
  {
   "cell_type": "markdown",
   "metadata": {},
   "source": [
    "# Step 8: Use Django Admin to Manage Data\n",
    "Django provides an admin interface to manage your data."
   ]
  },
  {
   "cell_type": "code",
   "execution_count": null,
   "metadata": {},
   "outputs": [],
   "source": [
    "#Create a superuser:\n",
    "python manage.py createsuperuser\n",
    "\n",
    "#You can Use appropriate information to fill."
   ]
  },
  {
   "cell_type": "markdown",
   "metadata": {},
   "source": [
    "### Registering the defined models:"
   ]
  },
  {
   "cell_type": "code",
   "execution_count": null,
   "metadata": {},
   "outputs": [],
   "source": [
    "#Open products/admin.py and add the following:\n",
    "\n",
    "from django.contrib import admin\n",
    "from .models import Category, Product\n",
    "\n",
    "admin.site.register(Category)\n",
    "admin.site.register(Product)"
   ]
  },
  {
   "cell_type": "code",
   "execution_count": null,
   "metadata": {},
   "outputs": [],
   "source": [
    "#Run the server:\n",
    "\n",
    "python manage.py runserver"
   ]
  },
  {
   "cell_type": "markdown",
   "metadata": {},
   "source": [
    "_*Access the admin interface at http://127.0.0.1:8000/admin/ and log in with your superuser credentials._\n",
    "\n",
    "You can now add, edit, and delete categories and products."
   ]
  },
  {
   "cell_type": "markdown",
   "metadata": {},
   "source": [
    "# Step 9: Create Views and Templates\n",
    "Optional. To display products on a webpage."
   ]
  },
  {
   "cell_type": "markdown",
   "metadata": {},
   "source": [
    "### Create a view:"
   ]
  },
  {
   "cell_type": "code",
   "execution_count": null,
   "metadata": {},
   "outputs": [],
   "source": [
    "#Open products/views.py and add the following:\n",
    "\n",
    "from django.shortcuts import render\n",
    "from .models import Product\n",
    "\n",
    "def product_list(request):\n",
    "    products = Product.objects.all()\n",
    "    return render(request, 'products/product_list.html', {'products': products})"
   ]
  },
  {
   "cell_type": "markdown",
   "metadata": {},
   "source": [
    "### Create a template:"
   ]
  },
  {
   "cell_type": "code",
   "execution_count": null,
   "metadata": {},
   "outputs": [],
   "source": [
    "#Create a folder named templates/products/ inside the products app. Then, create a file named product_list.html:\n",
    "\n",
    "<!DOCTYPE html>\n",
    "<html>\n",
    "<head>\n",
    "    <title>Product List</title>\n",
    "</head>\n",
    "<body>\n",
    "    <h1>Product List</h1>\n",
    "    <ul>\n",
    "        {% for product in products %}\n",
    "            <li>{{ product.Name }} - ${{ product.Price }} ({{ product.Category.Name }})</li>\n",
    "        {% endfor %}\n",
    "    </ul>\n",
    "</body>\n",
    "</html>"
   ]
  },
  {
   "cell_type": "markdown",
   "metadata": {},
   "source": [
    "### Configure URLs:"
   ]
  },
  {
   "cell_type": "code",
   "execution_count": null,
   "metadata": {},
   "outputs": [],
   "source": [
    "#Open products/urls.py (create it if it doesn’t exist) and add the following:\n",
    "\n",
    "from django.urls import path\n",
    "from . import views\n",
    "\n",
    "urlpatterns = [\n",
    "    path('', views.product_list, name='product_list'),\n",
    "]"
   ]
  },
  {
   "cell_type": "code",
   "execution_count": null,
   "metadata": {},
   "outputs": [],
   "source": [
    "#Then, include the products URLs in myproject/urls.py:\n",
    "\n",
    "from django.contrib import admin\n",
    "from django.urls import include, path\n",
    "\n",
    "urlpatterns = [\n",
    "    path('admin/', admin.site.urls),\n",
    "    path('products/', include('products.urls')),\n",
    "]\n"
   ]
  },
  {
   "cell_type": "code",
   "execution_count": null,
   "metadata": {},
   "outputs": [],
   "source": [
    "#Run the server:\n",
    "\n",
    "python manage.py runserver"
   ]
  },
  {
   "cell_type": "markdown",
   "metadata": {},
   "source": [
    "_Visit http://127.0.0.1:8000/products/ to see your product list._"
   ]
  },
  {
   "cell_type": "markdown",
   "metadata": {},
   "source": [
    "# Step 10: Django ORM (Object-Relational Mapping): \n",
    "Performing CRUD (Create, Read, Update, Delete) operations using Django ORM."
   ]
  }
 ],
 "metadata": {
  "kernelspec": {
   "display_name": "django_app",
   "language": "python",
   "name": "python3"
  },
  "language_info": {
   "codemirror_mode": {
    "name": "ipython",
    "version": 3
   },
   "file_extension": ".py",
   "mimetype": "text/x-python",
   "name": "python",
   "nbconvert_exporter": "python",
   "pygments_lexer": "ipython3",
   "version": "3.12.8"
  }
 },
 "nbformat": 4,
 "nbformat_minor": 2
}
